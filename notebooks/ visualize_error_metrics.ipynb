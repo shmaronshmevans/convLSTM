{
 "cells": [
  {
   "cell_type": "code",
   "execution_count": 1,
   "metadata": {},
   "outputs": [],
   "source": [
    "import pandas as pd\n",
    "import numpy as np\n",
    "import matplotlib.pyplot as plt\n",
    "import re\n",
    "import statistics as st\n",
    "from datetime import datetime\n",
    "import os"
   ]
  },
  {
   "cell_type": "code",
   "execution_count": null,
   "metadata": {},
   "outputs": [],
   "source": [
    "model_path = \"/home/aevans/convLSTM/src/data/temp_df/20240528/Mohawk Valley/20240528_17:35_ml_output.parquet\"\n",
    "\n",
    "clim_div = 'Mohawk Valley'\n",
    "\n",
    "full_df_path = '/home/aevans/convLSTM/src/data/temp_df/20240331/Mohawk Valley/Mohawk Valley_CAMD.parquet'"
   ]
  },
  {
   "cell_type": "code",
   "execution_count": null,
   "metadata": {},
   "outputs": [],
   "source": [
    "nysm_cats_path = \"/home/aevans/nwp_bias/src/landtype/data/nysm.csv\"\n",
    "nysm_cats_df = pd.read_csv(nysm_cats_path)\n",
    "stations = nysm_cats_df[nysm_cats_df['climate_division_name']==clim_div]['stid'].unique()\n",
    "stations"
   ]
  },
  {
   "cell_type": "code",
   "execution_count": null,
   "metadata": {},
   "outputs": [],
   "source": [
    "df = pd.read_parquet(model_path)\n",
    "df = df.sort_index()"
   ]
  },
  {
   "cell_type": "code",
   "execution_count": null,
   "metadata": {},
   "outputs": [],
   "source": [
    "df"
   ]
  },
  {
   "cell_type": "code",
   "execution_count": null,
   "metadata": {},
   "outputs": [],
   "source": [
    "full_df = pd.read_parquet(full_df_path)"
   ]
  },
  {
   "cell_type": "code",
   "execution_count": null,
   "metadata": {},
   "outputs": [],
   "source": [
    "def which_fold(df, fold):\n",
    "    length = len(df)\n",
    "    test_len = int(length * 0.2)\n",
    "    df_train = pd.DataFrame()\n",
    "\n",
    "    for n in np.arange(0, 5):\n",
    "        if n != fold:\n",
    "            df1 = df.iloc[int(0.2 * n * length) : int(0.2 * (n + 1) * length)]\n",
    "            df_train = pd.concat([df_train, df1])\n",
    "        else:\n",
    "            df_test = df.iloc[int(0.2 * n * length) : int(0.2 * (n + 1) * length)]\n",
    "\n",
    "    return df_train['valid_time'], df_test['valid_time']"
   ]
  },
  {
   "cell_type": "code",
   "execution_count": null,
   "metadata": {},
   "outputs": [],
   "source": [
    "df_train, df_test = which_fold(full_df, 3)"
   ]
  },
  {
   "cell_type": "code",
   "execution_count": null,
   "metadata": {},
   "outputs": [],
   "source": [
    "df_test.iloc[0]"
   ]
  },
  {
   "cell_type": "code",
   "execution_count": null,
   "metadata": {},
   "outputs": [],
   "source": [
    "df_test.iloc[-1]"
   ]
  },
  {
   "cell_type": "code",
   "execution_count": null,
   "metadata": {},
   "outputs": [],
   "source": [
    "vt = full_df['valid_time'].to_list()\n",
    "vt = vt[:int(len(df)-len(full_df))]\n",
    "df['valid_time'] = vt"
   ]
  },
  {
   "cell_type": "code",
   "execution_count": null,
   "metadata": {},
   "outputs": [],
   "source": [
    "df = df[df['valid_time'] > datetime(2021, 9, 1, 0, 0, 0)]\n",
    "df = df[df['valid_time'] < datetime(2021, 9, 30, 23, 0, 0)]\n",
    "#df = df.drop(columns='valid_time')"
   ]
  },
  {
   "cell_type": "code",
   "execution_count": null,
   "metadata": {},
   "outputs": [],
   "source": [
    "def plot_outputs(df_out, clim_div, stations):\n",
    "    import matplotlib.pyplot as plt \n",
    "    df_out = df_out.sort_index()\n",
    "    fig, axs = plt.subplots(int(df_out.shape[1]/2), figsize=(21, 21), sharex=True, sharey=True)\n",
    "    n = int(df_out.shape[1]/2)\n",
    "    i = 0\n",
    "    while n>i:\n",
    "        axs[i].set_ylabel(f'{stations[i]}')\n",
    "        axs[i].plot(df_out['valid_time'], df_out[f'{i}_target'], c=\"r\", label=\"Target\")\n",
    "        axs[i].plot(df_out['valid_time'], df_out[f\"{i}_convLSTM_output\"], c=\"b\", alpha=0.7, label=\"convLSTM Output\")\n",
    "        \n",
    "        print(f\"Mean Absolute Difference of {stations[i]}: {abs(df_out[f'{i}_target'] - df_out[f'{i}_convLSTM_output']).mean()}\")\n",
    "        i+=1\n",
    "    fig.suptitle(f\"convLSTM Output v Target\", fontsize=28)\n",
    "    axs[0].legend()\n",
    "    plt.tight_layout()"
   ]
  },
  {
   "cell_type": "code",
   "execution_count": null,
   "metadata": {},
   "outputs": [],
   "source": [
    "plot_outputs(df, clim_div, stations)"
   ]
  },
  {
   "cell_type": "code",
   "execution_count": null,
   "metadata": {},
   "outputs": [],
   "source": []
  }
 ],
 "metadata": {
  "kernelspec": {
   "display_name": "Python 3.9.16 ('base': conda)",
   "language": "python",
   "name": "python3"
  },
  "language_info": {
   "codemirror_mode": {
    "name": "ipython",
    "version": 3
   },
   "file_extension": ".py",
   "mimetype": "text/x-python",
   "name": "python",
   "nbconvert_exporter": "python",
   "pygments_lexer": "ipython3",
   "version": "3.9.16"
  },
  "orig_nbformat": 4,
  "vscode": {
   "interpreter": {
    "hash": "44818f36aeaf89db1a1d21a2bee6031a28b4e41595a65903b38b9b0c4417365f"
   }
  }
 },
 "nbformat": 4,
 "nbformat_minor": 2
}
